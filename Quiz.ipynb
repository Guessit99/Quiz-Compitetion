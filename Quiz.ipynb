{
  "nbformat": 4,
  "nbformat_minor": 0,
  "metadata": {
    "colab": {
      "provenance": [],
      "authorship_tag": "ABX9TyNr51lXR/m6dfiU7F9eluii",
      "include_colab_link": true
    },
    "kernelspec": {
      "name": "python3",
      "display_name": "Python 3"
    },
    "language_info": {
      "name": "python"
    }
  },
  "cells": [
    {
      "cell_type": "markdown",
      "metadata": {
        "id": "view-in-github",
        "colab_type": "text"
      },
      "source": [
        "<a href=\"https://colab.research.google.com/github/Guessit99/Quiz-Compitetion/blob/main/Quiz.ipynb\" target=\"_parent\"><img src=\"https://colab.research.google.com/assets/colab-badge.svg\" alt=\"Open In Colab\"/></a>"
      ]
    },
    {
      "cell_type": "code",
      "execution_count": null,
      "metadata": {
        "colab": {
          "base_uri": "https://localhost:8080/"
        },
        "id": "izH1mOiuaI3w",
        "outputId": "084c473c-6b72-4436-fd07-d2c133192ad3"
      },
      "outputs": [
        {
          "output_type": "stream",
          "name": "stdout",
          "text": [
            "Enter your name: Rajik\n",
            "What is the capital of India?\n",
            "1. Kolkatta\n",
            "2. Delhi\n",
            "3. Maharashtra\n",
            "4. Gujrat\n",
            "Your choice (enter the option number): 2\n",
            "Which planet is known as the Red Planet?\n",
            "1. Mars\n",
            "2. Earth\n",
            "3. Jupiter\n",
            "4. Saturn\n",
            "Your choice (enter the option number): 1\n",
            "What is the largest mammal on Earth?\n",
            "1. Elephant\n",
            "2. Hippopotamus\n",
            "3. Giraffe\n",
            "4. Blue Whale\n"
          ]
        }
      ],
      "source": [
        "class Question:\n",
        "    def __init__(self, text, options, correct_answer):\n",
        "        self.text = text\n",
        "        self.options = options\n",
        "        self.correct_answer = correct_answer\n",
        "\n",
        "    def check_answer(self, player_answer):\n",
        "        return player_answer == self.correct_answer\n",
        "\n",
        "\n",
        "class Quiz:\n",
        "    def __init__(self):\n",
        "        self.questions = []\n",
        "\n",
        "    def add_question(self, question):\n",
        "        self.questions.append(question)\n",
        "\n",
        "    def conduct_quiz(self, player):\n",
        "        player_score = 0\n",
        "        for question in self.questions:\n",
        "            print(question.text)\n",
        "            for i, option in enumerate(question.options, 1):\n",
        "                print(f\"{i}. {option}\")\n",
        "\n",
        "            player_answer = int(input(\"Your choice (enter the option number): \"))\n",
        "            if question.check_answer(player_answer):\n",
        "                player_score += 1\n",
        "\n",
        "        player.update_score(player_score)\n",
        "\n",
        "    def display_results(self, player):\n",
        "        print(f\"Results for {player.name}:\")\n",
        "        print(f\"Score: {player.score}/{len(self.questions)}\")\n",
        "\n",
        "\n",
        "class Player:\n",
        "    def __init__(self, name):\n",
        "        self.name = name\n",
        "        self.score = 0\n",
        "\n",
        "    def take_quiz(self, quiz):\n",
        "        quiz.conduct_quiz(self)\n",
        "\n",
        "    def update_score(self, score):\n",
        "        self.score = score\n",
        "\n",
        "\n",
        "# Example\n",
        "if __name__ == \"__main__\":\n",
        "    # Creating questions\n",
        "    question1 = Question(\"What is the capital of India?\", [\"Kolkatta\", \"Delhi\", \"Maharashtra\", \"Gujrat\"], 2)\n",
        "    question2 = Question(\"Which planet is known as the Red Planet?\", [\"Mars\", \"Earth\", \"Jupiter\", \"Saturn\"], 1)\n",
        "    question3 = Question(\"What is the largest mammal on Earth?\", [\"Elephant\",\"Hippopotamus\" , \"Giraffe\", \"Blue Whale\"], 4)\n",
        "    question4 = Question(\"Which is Economic capital of India?\", [\"Surat\", \"Banglore\", \"Mumbai\", \"Hydrabad\"], 3)\n",
        "\n",
        "    # Creating a quiz and adding questions\n",
        "    quiz = Quiz()\n",
        "    quiz.add_question(question1)\n",
        "    quiz.add_question(question2)\n",
        "    quiz.add_question(question3)\n",
        "    quiz.add_question(question4)\n",
        "\n",
        "    # Creating a player\n",
        "    player_name = input(\"Enter your name: \")\n",
        "    player = Player(player_name)\n",
        "\n",
        "    # Allow player to take the quiz\n",
        "    player.take_quiz(quiz)\n",
        "\n",
        "    # results\n",
        "    quiz.display_results(player)\n"
      ]
    }
  ]
}